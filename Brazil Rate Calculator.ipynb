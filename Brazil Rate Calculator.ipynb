{
 "cells": [
  {
   "cell_type": "code",
   "execution_count": 1,
   "id": "textile-necklace",
   "metadata": {},
   "outputs": [],
   "source": [
    "import sys \n",
    "sys.path.append ('/usr/local/lib/python3.9/site-packages')\n",
    "\n",
    "import pandas as pd\n",
    "import numpy\n",
    "import matplotlib.pyplot as plt\n",
    "#from datetime import datetime, timedelta"
   ]
  },
  {
   "cell_type": "code",
   "execution_count": 2,
   "id": "hydraulic-transparency",
   "metadata": {},
   "outputs": [
    {
     "data": {
      "text/html": [
       "<div>\n",
       "<style scoped>\n",
       "    .dataframe tbody tr th:only-of-type {\n",
       "        vertical-align: middle;\n",
       "    }\n",
       "\n",
       "    .dataframe tbody tr th {\n",
       "        vertical-align: top;\n",
       "    }\n",
       "\n",
       "    .dataframe thead th {\n",
       "        text-align: right;\n",
       "    }\n",
       "</style>\n",
       "<table border=\"1\" class=\"dataframe\">\n",
       "  <thead>\n",
       "    <tr style=\"text-align: right;\">\n",
       "      <th></th>\n",
       "      <th>Date / Time</th>\n",
       "      <th>Duration</th>\n",
       "      <th>Duration(sec)</th>\n",
       "      <th>Wait(sec)</th>\n",
       "      <th>Cost EUR</th>\n",
       "      <th>Tariff EUR</th>\n",
       "      <th>User</th>\n",
       "      <th>Type</th>\n",
       "      <th>Status</th>\n",
       "      <th>Campaign ID</th>\n",
       "    </tr>\n",
       "  </thead>\n",
       "  <tbody>\n",
       "    <tr>\n",
       "      <th>0</th>\n",
       "      <td>07.12.2020 18:56:38</td>\n",
       "      <td>00:00:00</td>\n",
       "      <td>0.0</td>\n",
       "      <td>92.0</td>\n",
       "      <td>0.0</td>\n",
       "      <td>0.0</td>\n",
       "      <td>Martino</td>\n",
       "      <td>out</td>\n",
       "      <td>Busy</td>\n",
       "      <td>0.0</td>\n",
       "    </tr>\n",
       "    <tr>\n",
       "      <th>1</th>\n",
       "      <td>07.12.2020 18:56:30</td>\n",
       "      <td>00:00:00</td>\n",
       "      <td>0.0</td>\n",
       "      <td>101.0</td>\n",
       "      <td>0.0</td>\n",
       "      <td>0.0</td>\n",
       "      <td>Martino</td>\n",
       "      <td>out</td>\n",
       "      <td>No answer</td>\n",
       "      <td>0.0</td>\n",
       "    </tr>\n",
       "    <tr>\n",
       "      <th>2</th>\n",
       "      <td>07.12.2020 18:56:27</td>\n",
       "      <td>00:00:00</td>\n",
       "      <td>0.0</td>\n",
       "      <td>100.0</td>\n",
       "      <td>0.0</td>\n",
       "      <td>0.0</td>\n",
       "      <td>Martino</td>\n",
       "      <td>out</td>\n",
       "      <td>No answer</td>\n",
       "      <td>0.0</td>\n",
       "    </tr>\n",
       "    <tr>\n",
       "      <th>3</th>\n",
       "      <td>07.12.2020 18:56:26</td>\n",
       "      <td>00:00:00</td>\n",
       "      <td>0.0</td>\n",
       "      <td>100.0</td>\n",
       "      <td>0.0</td>\n",
       "      <td>0.0</td>\n",
       "      <td>Martino</td>\n",
       "      <td>out</td>\n",
       "      <td>No answer</td>\n",
       "      <td>0.0</td>\n",
       "    </tr>\n",
       "    <tr>\n",
       "      <th>4</th>\n",
       "      <td>07.12.2020 18:56:23</td>\n",
       "      <td>00:00:00</td>\n",
       "      <td>0.0</td>\n",
       "      <td>96.0</td>\n",
       "      <td>0.0</td>\n",
       "      <td>0.0</td>\n",
       "      <td>Martino</td>\n",
       "      <td>out</td>\n",
       "      <td>Congestion</td>\n",
       "      <td>0.0</td>\n",
       "    </tr>\n",
       "  </tbody>\n",
       "</table>\n",
       "</div>"
      ],
      "text/plain": [
       "           Date / Time  Duration  Duration(sec)  Wait(sec)  Cost EUR  \\\n",
       "0  07.12.2020 18:56:38  00:00:00            0.0       92.0       0.0   \n",
       "1  07.12.2020 18:56:30  00:00:00            0.0      101.0       0.0   \n",
       "2  07.12.2020 18:56:27  00:00:00            0.0      100.0       0.0   \n",
       "3  07.12.2020 18:56:26  00:00:00            0.0      100.0       0.0   \n",
       "4  07.12.2020 18:56:23  00:00:00            0.0       96.0       0.0   \n",
       "\n",
       "   Tariff EUR     User Type      Status  Campaign ID  \n",
       "0         0.0  Martino  out        Busy          0.0  \n",
       "1         0.0  Martino  out   No answer          0.0  \n",
       "2         0.0  Martino  out   No answer          0.0  \n",
       "3         0.0  Martino  out   No answer          0.0  \n",
       "4         0.0  Martino  out  Congestion          0.0  "
      ]
     },
     "execution_count": 2,
     "metadata": {},
     "output_type": "execute_result"
    }
   ],
   "source": [
    "df = pd.read_csv('Dummie_data_for_rate_calculator.csv', header=1, sep=';')\n",
    "df.head()"
   ]
  },
  {
   "cell_type": "code",
   "execution_count": 3,
   "id": "outstanding-lunch",
   "metadata": {},
   "outputs": [],
   "source": [
    "#df.columns"
   ]
  },
  {
   "cell_type": "code",
   "execution_count": 4,
   "id": "vocational-procurement",
   "metadata": {},
   "outputs": [],
   "source": [
    "df['Duration(sec)'] = df['Duration(sec)'].fillna(0)\n",
    "\n",
    "#turn the column into a list\n",
    "list1 = df[\"Duration(sec)\"].tolist()\n",
    "\n",
    "#print(list1)"
   ]
  },
  {
   "cell_type": "code",
   "execution_count": 5,
   "id": "received-racing",
   "metadata": {},
   "outputs": [
    {
     "name": "stdout",
     "output_type": "stream",
     "text": [
      "We buy for: 5.85 EUR\n",
      "\n",
      "\n",
      "1-1 Rate minutes: 943.02 min\n",
      "1-1 Rate revenue: 13.20 EUR\n",
      "And we made  7.36 EUR\n",
      "\n",
      "\n",
      "3-30-6 Rate minutes: 1092.5 min\n",
      "3-30-6 Rate revenue: 15.29 EUR\n",
      "And we made  9.45 EUR\n"
     ]
    }
   ],
   "source": [
    "#------Buy Price----\n",
    "\n",
    "ratebuy = 0.0062    #Buying rate per min\n",
    "sumsec = sum(list1)\n",
    "summin = sumsec/60\n",
    "totalbuy = summin*ratebuy\n",
    "\n",
    "print(\"We buy for:\", \"{:.2f}\".format(totalbuy), \"EUR\")\n",
    "\n",
    "print('\\n')\n",
    "\n",
    "#------1-1--Revenue----\n",
    "\n",
    "ratesell = 0.014    #Selling rate per min\n",
    "total1_1 = summin*ratesell\n",
    "revenue1_1 = total1_1-totalbuy\n",
    "\n",
    "print(\"1-1 Rate minutes:\",\"{:.2f}\".format(summin), \"min\")\n",
    "print(\"1-1 Rate revenue:\",\"{:.2f}\".format(total1_1), \"EUR\")\n",
    "print(\"And we made \", \"{:.2f}\".format(revenue1_1), \"EUR\")\n",
    "\n",
    "print('\\n')\n",
    "\n",
    "#------3-30-6-----\n",
    "\n",
    "totalsec = 0\n",
    "\n",
    "for n in list1:\n",
    "    if n >= 3 and n < 30:\n",
    "        totalsec += 30\n",
    "    if n >= 30:\n",
    "        the6float = n/6\n",
    "        the6dec = int(the6float)\n",
    "        totalsec += (the6dec+1)*6\n",
    "    \n",
    "totalmin = totalsec/60\n",
    "total3_30_6 = totalmin*ratesell\n",
    "revenue3_30_6 = total3_30_6-totalbuy\n",
    "\n",
    "#print(datetime.today())\n",
    "print(\"3-30-6 Rate minutes:\", totalmin, \"min\")\n",
    "print(\"3-30-6 Rate revenue:\", \"{:.2f}\".format(total3_30_6), \"EUR\")\n",
    "print(\"And we made \", \"{:.2f}\".format(revenue3_30_6), \"EUR\")"
   ]
  },
  {
   "cell_type": "code",
   "execution_count": 6,
   "id": "sized-resolution",
   "metadata": {
    "scrolled": true
   },
   "outputs": [
    {
     "data": {
      "text/html": [
       "<div>\n",
       "<style scoped>\n",
       "    .dataframe tbody tr th:only-of-type {\n",
       "        vertical-align: middle;\n",
       "    }\n",
       "\n",
       "    .dataframe tbody tr th {\n",
       "        vertical-align: top;\n",
       "    }\n",
       "\n",
       "    .dataframe thead th {\n",
       "        text-align: right;\n",
       "    }\n",
       "</style>\n",
       "<table border=\"1\" class=\"dataframe\">\n",
       "  <thead>\n",
       "    <tr style=\"text-align: right;\">\n",
       "      <th></th>\n",
       "      <th>Billing Type</th>\n",
       "      <th>Billed Min</th>\n",
       "      <th>Buy Price</th>\n",
       "      <th>Sell Price</th>\n",
       "      <th>Revenue</th>\n",
       "    </tr>\n",
       "  </thead>\n",
       "  <tbody>\n",
       "    <tr>\n",
       "      <th>0</th>\n",
       "      <td>1-1</td>\n",
       "      <td>943.016667</td>\n",
       "      <td>5.846703</td>\n",
       "      <td>13.202233</td>\n",
       "      <td>7.355530</td>\n",
       "    </tr>\n",
       "    <tr>\n",
       "      <th>1</th>\n",
       "      <td>3-30-6</td>\n",
       "      <td>1092.500000</td>\n",
       "      <td>5.846703</td>\n",
       "      <td>15.295000</td>\n",
       "      <td>9.448297</td>\n",
       "    </tr>\n",
       "  </tbody>\n",
       "</table>\n",
       "</div>"
      ],
      "text/plain": [
       "  Billing Type   Billed Min  Buy Price  Sell Price   Revenue\n",
       "0          1-1   943.016667   5.846703   13.202233  7.355530\n",
       "1       3-30-6  1092.500000   5.846703   15.295000  9.448297"
      ]
     },
     "execution_count": 6,
     "metadata": {},
     "output_type": "execute_result"
    }
   ],
   "source": [
    "dict = {\"Billing Type\":[\"1-1\", \"3-30-6\"],\n",
    "        \"Billed Min\":[summin, totalmin], \n",
    "        \"Buy Price\":[totalbuy, totalbuy], \n",
    "        \"Sell Price\":[total1_1, total3_30_6],\n",
    "        \"Revenue\":[revenue1_1, revenue3_30_6]}\n",
    "\n",
    "df2 = pd.DataFrame(dict)\n",
    "\n",
    "df2.head()\n",
    "\n",
    "\n"
   ]
  },
  {
   "cell_type": "code",
   "execution_count": 7,
   "id": "lovely-dinner",
   "metadata": {},
   "outputs": [
    {
     "data": {
      "image/png": "[encoded data removed]",
      "text/plain": [
       "<Figure size 432x288 with 1 Axes>"
      ]
     },
     "metadata": {
      "needs_background": "light"
     },
     "output_type": "display_data"
    }
   ],
   "source": [
    "df2.Revenue=pd.to_numeric(df2.Revenue)\n",
    "\n",
    "df2.plot(x=\"Billing Type\", y=\"Revenue\", kind=\"bar\")\n",
    "plt.xlabel('Billing Type')\n",
    "plt.ylabel('Revenue in EUR')\n",
    "plt.show()"
   ]
  },
  {
   "cell_type": "code",
   "execution_count": 8,
   "id": "detected-vertex",
   "metadata": {},
   "outputs": [],
   "source": [
    "#df2['Billed Min']=pd.to_numeric(df2['Billed Min'])\n",
    "#df2['Buy Price']=pd.to_numeric(df2['Buy Price'])\n",
    "#df2['Sell Price']=pd.to_numeric(df2['Sell Price'])"
   ]
  },
  {
   "cell_type": "code",
   "execution_count": null,
   "id": "difficult-closure",
   "metadata": {},
   "outputs": [],
   "source": []
  }
 ],
 "metadata": {
  "kernelspec": {
   "display_name": "Python 3",
   "language": "python",
   "name": "python3"
  },
  "language_info": {
   "codemirror_mode": {
    "name": "ipython",
    "version": 3
   },
   "file_extension": ".py",
   "mimetype": "text/x-python",
   "name": "python",
   "nbconvert_exporter": "python",
   "pygments_lexer": "ipython3",
   "version": "3.9.1"
  }
 },
 "nbformat": 4,
 "nbformat_minor": 5
}
