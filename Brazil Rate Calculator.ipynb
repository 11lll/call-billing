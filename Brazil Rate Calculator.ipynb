{
 "cells": [
  {
   "cell_type": "code",
   "execution_count": 1,
   "id": "textile-necklace",
   "metadata": {},
   "outputs": [],
   "source": [
    "import sys \n",
    "sys.path.append ('/usr/local/lib/python3.9/site-packages')\n",
    "\n",
    "import pandas as pd\n",
    "import numpy\n",
    "import matplotlib.pyplot as plt\n",
    "#from datetime import datetime, timedelta"
   ]
  },
  {
   "cell_type": "code",
   "execution_count": 2,
   "id": "hydraulic-transparency",
   "metadata": {},
   "outputs": [],
   "source": [
    "df = pd.read_csv('TelTel.io-call-list-2020-11-09-2021-01-31-6009c3628ca81.csv', header=1)\n",
    "#df.head()"
   ]
  },
  {
   "cell_type": "code",
   "execution_count": 3,
   "id": "outstanding-lunch",
   "metadata": {},
   "outputs": [],
   "source": [
    "#df.columns"
   ]
  },
  {
   "cell_type": "code",
   "execution_count": 4,
   "id": "vocational-procurement",
   "metadata": {},
   "outputs": [],
   "source": [
    "df['Duration(sec)'] = df['Duration(sec)'].fillna(0)\n",
    "\n",
    "list1 = df[\"Duration(sec)\"].tolist()\n",
    "#print(list1)"
   ]
  },
  {
   "cell_type": "code",
   "execution_count": 5,
   "id": "received-racing",
   "metadata": {},
   "outputs": [
    {
     "name": "stdout",
     "output_type": "stream",
     "text": [
      "We buy for: 1132.63 EUR\n",
      "\n",
      "\n",
      "1-1 Rate minutes: 182682.80 min\n",
      "1-1 Rate revenue: 2557.56 EUR\n",
      "And we made  1424.93 EUR\n",
      "\n",
      "\n",
      "3-30-6 Rate minutes: 187757.1 min\n",
      "3-30-6 Rate revenue: 2628.60 EUR\n",
      "And we made  1495.97 EUR\n"
     ]
    }
   ],
   "source": [
    "#------Buy Price----\n",
    "ratebuy = 0.0062\n",
    "sumsec = sum(list1)\n",
    "summin = sumsec/60\n",
    "totalbuy = summin*ratebuy\n",
    "\n",
    "print(\"We buy for:\", \"{:.2f}\".format(totalbuy), \"EUR\")\n",
    "\n",
    "print('\\n')\n",
    "\n",
    "#------1-1--Revenue----\n",
    "\n",
    "ratesell = 0.014\n",
    "total1_1 = summin*ratesell\n",
    "revenue1_1 = total1_1-totalbuy\n",
    "\n",
    "print(\"1-1 Rate minutes:\",\"{:.2f}\".format(summin), \"min\")\n",
    "print(\"1-1 Rate revenue:\",\"{:.2f}\".format(total1_1), \"EUR\")\n",
    "print(\"And we made \", \"{:.2f}\".format(revenue1_1), \"EUR\")\n",
    "\n",
    "print('\\n')\n",
    "\n",
    "#------3-30-6-----\n",
    "\n",
    "totalsec = 0\n",
    "\n",
    "for n in list1:\n",
    "    if n >= 3 and n < 30:\n",
    "        totalsec += 30\n",
    "    if n >= 30:\n",
    "        the6float = n/6\n",
    "        the6dec = int(the6float)\n",
    "        totalsec += (the6dec+1)*6\n",
    "    \n",
    "totalmin = totalsec/60\n",
    "total3_30_6 = totalmin*ratesell\n",
    "revenue3_30_6 = total3_30_6-totalbuy\n",
    "\n",
    "#print(datetime.today())\n",
    "print(\"3-30-6 Rate minutes:\", totalmin, \"min\")\n",
    "print(\"3-30-6 Rate revenue:\", \"{:.2f}\".format(total3_30_6), \"EUR\")\n",
    "print(\"And we made \", \"{:.2f}\".format(revenue3_30_6), \"EUR\")"
   ]
  },
  {
   "cell_type": "code",
   "execution_count": 6,
   "id": "sized-resolution",
   "metadata": {
    "scrolled": true
   },
   "outputs": [
    {
     "data": {
      "text/html": [
       "<div>\n",
       "<style scoped>\n",
       "    .dataframe tbody tr th:only-of-type {\n",
       "        vertical-align: middle;\n",
       "    }\n",
       "\n",
       "    .dataframe tbody tr th {\n",
       "        vertical-align: top;\n",
       "    }\n",
       "\n",
       "    .dataframe thead th {\n",
       "        text-align: right;\n",
       "    }\n",
       "</style>\n",
       "<table border=\"1\" class=\"dataframe\">\n",
       "  <thead>\n",
       "    <tr style=\"text-align: right;\">\n",
       "      <th></th>\n",
       "      <th>Billing Type</th>\n",
       "      <th>Billed Min</th>\n",
       "      <th>Buy Price</th>\n",
       "      <th>Sell Price</th>\n",
       "      <th>Revenue</th>\n",
       "    </tr>\n",
       "  </thead>\n",
       "  <tbody>\n",
       "    <tr>\n",
       "      <th>0</th>\n",
       "      <td>1-1</td>\n",
       "      <td>182682.8</td>\n",
       "      <td>1132.63336</td>\n",
       "      <td>2557.5592</td>\n",
       "      <td>1424.92584</td>\n",
       "    </tr>\n",
       "    <tr>\n",
       "      <th>1</th>\n",
       "      <td>3-30-6</td>\n",
       "      <td>187757.1</td>\n",
       "      <td>1132.63336</td>\n",
       "      <td>2628.5994</td>\n",
       "      <td>1495.96604</td>\n",
       "    </tr>\n",
       "  </tbody>\n",
       "</table>\n",
       "</div>"
      ],
      "text/plain": [
       "  Billing Type  Billed Min   Buy Price  Sell Price     Revenue\n",
       "0          1-1    182682.8  1132.63336   2557.5592  1424.92584\n",
       "1       3-30-6    187757.1  1132.63336   2628.5994  1495.96604"
      ]
     },
     "execution_count": 6,
     "metadata": {},
     "output_type": "execute_result"
    }
   ],
   "source": [
    "dict = {\"Billing Type\":[\"1-1\", \"3-30-6\"],\n",
    "        \"Billed Min\":[summin, totalmin], \n",
    "        \"Buy Price\":[totalbuy, totalbuy], \n",
    "        \"Sell Price\":[total1_1, total3_30_6],\n",
    "        \"Revenue\":[revenue1_1, revenue3_30_6]}\n",
    "\n",
    "df2 = pd.DataFrame(dict)\n",
    "\n",
    "df2.head()\n",
    "\n",
    "\n"
   ]
  },
  {
   "cell_type": "code",
   "execution_count": 7,
   "id": "lovely-dinner",
   "metadata": {},
   "outputs": [
    {
     "data": {
      "image/png": "[encoded data removed]",
      "text/plain": [
       "<Figure size 432x288 with 1 Axes>"
      ]
     },
     "metadata": {
      "needs_background": "light"
     },
     "output_type": "display_data"
    }
   ],
   "source": [
    "df2.Revenue=pd.to_numeric(df2.Revenue)\n",
    "\n",
    "df2.plot(x=\"Billing Type\", y=\"Revenue\", kind=\"bar\")\n",
    "plt.xlabel('Billing Type')\n",
    "plt.ylabel('Revenue in EUR')\n",
    "plt.show()"
   ]
  },
  {
   "cell_type": "code",
   "execution_count": 8,
   "id": "detected-vertex",
   "metadata": {},
   "outputs": [],
   "source": [
    "#df2['Billed Min']=pd.to_numeric(df2['Billed Min'])\n",
    "#df2['Buy Price']=pd.to_numeric(df2['Buy Price'])\n",
    "#df2['Sell Price']=pd.to_numeric(df2['Sell Price'])"
   ]
  },
  {
   "cell_type": "code",
   "execution_count": null,
   "id": "difficult-closure",
   "metadata": {},
   "outputs": [],
   "source": []
  }
 ],
 "metadata": {
  "kernelspec": {
   "display_name": "Python 3",
   "language": "python",
   "name": "python3"
  },
  "language_info": {
   "codemirror_mode": {
    "name": "ipython",
    "version": 3
   },
   "file_extension": ".py",
   "mimetype": "text/x-python",
   "name": "python",
   "nbconvert_exporter": "python",
   "pygments_lexer": "ipython3",
   "version": "3.9.1"
  }
 },
 "nbformat": 4,
 "nbformat_minor": 5
}
